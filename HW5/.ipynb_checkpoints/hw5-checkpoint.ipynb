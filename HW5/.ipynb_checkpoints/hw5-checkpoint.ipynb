{
 "cells": [
  {
   "cell_type": "markdown",
   "metadata": {
    "id": "4hiUrTp2g31d"
   },
   "source": [
    "(optional)"
   ]
  },
  {
   "cell_type": "code",
   "execution_count": 1,
   "metadata": {
    "colab": {
     "base_uri": "https://localhost:8080/"
    },
    "executionInfo": {
     "elapsed": 16697,
     "status": "ok",
     "timestamp": 1671540530905,
     "user": {
      "displayName": "李佳芸",
      "userId": "01015243826769900418"
     },
     "user_tz": -480
    },
    "id": "02ixxyXJQRNO",
    "outputId": "442095c6-cc11-4f31-8f94-7d858d95b3eb"
   },
   "outputs": [],
   "source": [
    "#from google.colab import drive\n",
    "import os\n",
    "#drive.mount('/content/drive')"
   ]
  },
  {
   "cell_type": "code",
   "execution_count": 2,
   "metadata": {
    "id": "cwb1U7JElJPa"
   },
   "outputs": [],
   "source": [
    "os.chdir('./')\n"
   ]
  },
  {
   "cell_type": "markdown",
   "metadata": {
    "id": "CQX9eCfIcRAn"
   },
   "source": [
    "# **HW5: Brain signal classification**\n",
    "In *HW 5*, you need to finish:\n",
    "\n",
    "1.  Model Implementation Part: Implement LSTM and EEGNet models to predict the label of each samples.\n",
    "\n",
    "2.  Model Competition Part: Implementing a model to reach better accuracy performance."
   ]
  },
  {
   "cell_type": "code",
   "execution_count": 3,
   "metadata": {
    "id": "BKJDTLRvQrnY"
   },
   "outputs": [],
   "source": [
    "import numpy as np\n",
    "import os\n",
    "import math\n",
    "import csv\n",
    "import matplotlib.pyplot as plt\n",
    "# Import the packages you need here\n",
    "from keras.layers import Dense, Dropout, Activation, Flatten, LSTM, TimeDistributed, Conv2D, BatchNormalization, DepthwiseConv2D, AveragePooling2D, SeparableConv2D\n",
    "from keras.models import Sequential\n",
    "\n",
    "from keras.constraints import max_norm\n",
    "\n",
    "import tensorflow as tf\n"
   ]
  },
  {
   "cell_type": "code",
   "execution_count": 4,
   "metadata": {
    "id": "ZQQylnWHQ4yy"
   },
   "outputs": [],
   "source": [
    "data = np.load('data.npz')\n",
    "label = np.load('label.npz')"
   ]
  },
  {
   "cell_type": "code",
   "execution_count": 6,
   "metadata": {
    "id": "3Ype-nIkQ-bf"
   },
   "outputs": [],
   "source": [
    "X_train = data['X_train']\n",
    "X_val = data['X_val']\n",
    "X_test = data['X_test']\n",
    "\n",
    "Y_train = label['Y_train']\n",
    "Y_val = label['Y_val']"
   ]
  },
  {
   "cell_type": "code",
   "execution_count": 7,
   "metadata": {
    "colab": {
     "base_uri": "https://localhost:8080/"
    },
    "executionInfo": {
     "elapsed": 2,
     "status": "ok",
     "timestamp": 1671540588108,
     "user": {
      "displayName": "李佳芸",
      "userId": "01015243826769900418"
     },
     "user_tz": -480
    },
    "id": "xjPvKG_im7mV",
    "outputId": "d2c8a3bc-c69e-42e8-b10f-587d2e9f555f"
   },
   "outputs": [
    {
     "data": {
      "text/plain": [
       "((604, 22, 200), (152, 22, 200), (190, 22, 200))"
      ]
     },
     "execution_count": 7,
     "metadata": {},
     "output_type": "execute_result"
    }
   ],
   "source": [
    "X_train.shape, X_val.shape, X_test.shape"
   ]
  },
  {
   "cell_type": "code",
   "execution_count": 8,
   "metadata": {
    "colab": {
     "base_uri": "https://localhost:8080/"
    },
    "executionInfo": {
     "elapsed": 349,
     "status": "ok",
     "timestamp": 1671540599191,
     "user": {
      "displayName": "李佳芸",
      "userId": "01015243826769900418"
     },
     "user_tz": -480
    },
    "id": "X7apA2_-lBjF",
    "outputId": "4526f7a4-eb1f-4d57-e40e-4917537cb0d2"
   },
   "outputs": [
    {
     "data": {
      "text/plain": [
       "((604, 1), (152, 1))"
      ]
     },
     "execution_count": 8,
     "metadata": {},
     "output_type": "execute_result"
    }
   ],
   "source": [
    "Y_train.shape, Y_val.shape"
   ]
  },
  {
   "cell_type": "markdown",
   "metadata": {
    "id": "diYYd3e7eopi"
   },
   "source": [
    "## Model Implementation Part"
   ]
  },
  {
   "cell_type": "markdown",
   "metadata": {
    "id": "97BpHWOAevWJ"
   },
   "source": [
    "### LSTM"
   ]
  },
  {
   "cell_type": "code",
   "execution_count": 10,
   "metadata": {},
   "outputs": [],
   "source": [
    "_X_train = X_train.reshape(X_train.shape[0], X_train.shape[2], X_train.shape[1])\n",
    "_X_val = X_val.reshape(X_val.shape[0], X_val.shape[2], X_val.shape[1])\n",
    "_X_test = X_test.reshape(X_test.shape[0], X_test.shape[2], X_test.shape[1])\n",
    "\n",
    "\n",
    "_Y_train = tf.one_hot(Y_train.flatten(), 6)\n",
    "_Y_val = tf.one_hot(Y_val.flatten(), 6)"
   ]
  },
  {
   "cell_type": "code",
   "execution_count": 14,
   "metadata": {
    "id": "xxFGe6YRe7qn",
    "scrolled": true
   },
   "outputs": [
    {
     "name": "stdout",
     "output_type": "stream",
     "text": [
      "Epoch 1/20\n",
      "19/19 [==============================] - 6s 123ms/step - loss: 0.1406 - accuracy: 0.2235 - val_loss: 0.1292 - val_accuracy: 0.3355\n",
      "Epoch 2/20\n",
      "19/19 [==============================] - 1s 73ms/step - loss: 0.1137 - accuracy: 0.4702 - val_loss: 0.1084 - val_accuracy: 0.5132\n",
      "Epoch 3/20\n",
      "19/19 [==============================] - 2s 80ms/step - loss: 0.0802 - accuracy: 0.6854 - val_loss: 0.0811 - val_accuracy: 0.6776\n",
      "Epoch 4/20\n",
      "19/19 [==============================] - 2s 83ms/step - loss: 0.0482 - accuracy: 0.8344 - val_loss: 0.0583 - val_accuracy: 0.7500\n",
      "Epoch 5/20\n",
      "19/19 [==============================] - 2s 84ms/step - loss: 0.0294 - accuracy: 0.8990 - val_loss: 0.0468 - val_accuracy: 0.8224\n",
      "Epoch 6/20\n",
      "19/19 [==============================] - 2s 84ms/step - loss: 0.0178 - accuracy: 0.9520 - val_loss: 0.0389 - val_accuracy: 0.8553\n",
      "Epoch 7/20\n",
      "19/19 [==============================] - 2s 84ms/step - loss: 0.0111 - accuracy: 0.9752 - val_loss: 0.0333 - val_accuracy: 0.8816\n",
      "Epoch 8/20\n",
      "19/19 [==============================] - 1s 76ms/step - loss: 0.0067 - accuracy: 0.9901 - val_loss: 0.0300 - val_accuracy: 0.9013\n",
      "Epoch 9/20\n",
      "19/19 [==============================] - 1s 77ms/step - loss: 0.0042 - accuracy: 0.9917 - val_loss: 0.0277 - val_accuracy: 0.9145\n",
      "Epoch 10/20\n",
      "19/19 [==============================] - 1s 78ms/step - loss: 0.0027 - accuracy: 0.9967 - val_loss: 0.0266 - val_accuracy: 0.9145\n",
      "Epoch 11/20\n",
      "19/19 [==============================] - 2s 83ms/step - loss: 0.0019 - accuracy: 0.9967 - val_loss: 0.0262 - val_accuracy: 0.9145\n",
      "Epoch 12/20\n",
      "19/19 [==============================] - 1s 74ms/step - loss: 0.0014 - accuracy: 0.9983 - val_loss: 0.0254 - val_accuracy: 0.9079\n",
      "Epoch 13/20\n",
      "19/19 [==============================] - 1s 75ms/step - loss: 9.3757e-04 - accuracy: 1.0000 - val_loss: 0.0246 - val_accuracy: 0.9145\n",
      "Epoch 14/20\n",
      "19/19 [==============================] - 1s 72ms/step - loss: 6.7113e-04 - accuracy: 1.0000 - val_loss: 0.0243 - val_accuracy: 0.9211\n",
      "Epoch 15/20\n",
      "19/19 [==============================] - 1s 74ms/step - loss: 5.1828e-04 - accuracy: 1.0000 - val_loss: 0.0240 - val_accuracy: 0.9276\n",
      "Epoch 16/20\n",
      "19/19 [==============================] - 1s 76ms/step - loss: 4.2234e-04 - accuracy: 1.0000 - val_loss: 0.0236 - val_accuracy: 0.9211\n",
      "Epoch 17/20\n",
      "19/19 [==============================] - 1s 71ms/step - loss: 3.5213e-04 - accuracy: 1.0000 - val_loss: 0.0232 - val_accuracy: 0.9276\n",
      "Epoch 18/20\n",
      "19/19 [==============================] - 1s 73ms/step - loss: 3.0001e-04 - accuracy: 1.0000 - val_loss: 0.0230 - val_accuracy: 0.9276\n",
      "Epoch 19/20\n",
      "19/19 [==============================] - 1s 76ms/step - loss: 2.6206e-04 - accuracy: 1.0000 - val_loss: 0.0229 - val_accuracy: 0.9276\n",
      "Epoch 20/20\n",
      "19/19 [==============================] - 1s 74ms/step - loss: 2.2700e-04 - accuracy: 1.0000 - val_loss: 0.0226 - val_accuracy: 0.9276\n"
     ]
    },
    {
     "data": {
      "image/png": "[encoded data removed]",
      "text/plain": [
       "<Figure size 640x480 with 1 Axes>"
      ]
     },
     "metadata": {},
     "output_type": "display_data"
    }
   ],
   "source": [
    "# Build your model here:\n",
    "LSTM_model = Sequential()\n",
    "LSTM_model.add(LSTM(50, input_shape=(_X_train.shape[1], _X_train.shape[2]), return_sequences=True))\n",
    "LSTM_model.add(TimeDistributed(Dense(1)))\n",
    "LSTM_model.add(Flatten())\n",
    "LSTM_model.add(Dense(6, activation='softmax'))\n",
    "LSTM_model.compile(loss='mse', optimizer='adam', metrics=['accuracy'])\n",
    "LSTM_history = LSTM_model.fit(_X_train, _Y_train, epochs=20, batch_size=32, validation_data=(_X_val, _Y_val))\n",
    "plt.plot(LSTM_history.history['loss'])\n",
    "plt.plot(LSTM_history.history['val_loss'])\n",
    "plt.ylabel('loss')\n",
    "plt.xlabel('epochs')\n",
    "plt.title('LSTM')\n",
    "plt.show()"
   ]
  },
  {
   "cell_type": "code",
   "execution_count": 15,
   "metadata": {},
   "outputs": [
    {
     "name": "stdout",
     "output_type": "stream",
     "text": [
      "Model: \"sequential_4\"\n",
      "_________________________________________________________________\n",
      " Layer (type)                Output Shape              Param #   \n",
      "=================================================================\n",
      " lstm_11 (LSTM)              (None, 200, 50)           14600     \n",
      "                                                                 \n",
      " time_distributed_4 (TimeDis  (None, 200, 1)           51        \n",
      " tributed)                                                       \n",
      "                                                                 \n",
      " flatten_4 (Flatten)         (None, 200)               0         \n",
      "                                                                 \n",
      " dense_9 (Dense)             (None, 6)                 1206      \n",
      "                                                                 \n",
      "=================================================================\n",
      "Total params: 15,857\n",
      "Trainable params: 15,857\n",
      "Non-trainable params: 0\n",
      "_________________________________________________________________\n"
     ]
    }
   ],
   "source": [
    "LSTM_model.summary()"
   ]
  },
  {
   "cell_type": "code",
   "execution_count": 46,
   "metadata": {
    "id": "sIXH_6BHjm6w"
   },
   "outputs": [
    {
     "name": "stdout",
     "output_type": "stream",
     "text": [
      "6/6 [==============================] - 1s 33ms/step\n"
     ]
    }
   ],
   "source": [
    "output = LSTM_model.predict(_X_test)\n",
    "output = np.argmax(output, axis = 1).reshape(output.shape[0], 1).astype(int)\n",
    "assert(output.shape == (190, 1))\n",
    "np.savetxt('lstm_output.csv', output, delimiter=\",\")"
   ]
  },
  {
   "cell_type": "markdown",
   "metadata": {
    "id": "xSGZPbDHrfOr"
   },
   "source": [
    "### EEGNet"
   ]
  },
  {
   "cell_type": "code",
   "execution_count": 54,
   "metadata": {
    "id": "OCUyBSH1hvqG"
   },
   "outputs": [
    {
     "name": "stdout",
     "output_type": "stream",
     "text": [
      "Epoch 1/20\n",
      "19/19 [==============================] - 4s 74ms/step - loss: 1.7047 - accuracy: 0.3295 - val_loss: 1.6792 - val_accuracy: 0.6184\n",
      "Epoch 2/20\n",
      "19/19 [==============================] - 1s 59ms/step - loss: 1.4707 - accuracy: 0.6192 - val_loss: 1.5365 - val_accuracy: 0.8421\n",
      "Epoch 3/20\n",
      "19/19 [==============================] - 1s 58ms/step - loss: 1.1702 - accuracy: 0.7483 - val_loss: 1.3677 - val_accuracy: 0.8487\n",
      "Epoch 4/20\n",
      "19/19 [==============================] - 1s 63ms/step - loss: 0.9952 - accuracy: 0.7798 - val_loss: 1.2194 - val_accuracy: 0.8553\n",
      "Epoch 5/20\n",
      "19/19 [==============================] - 1s 57ms/step - loss: 0.8914 - accuracy: 0.8162 - val_loss: 1.1222 - val_accuracy: 0.8618\n",
      "Epoch 6/20\n",
      "19/19 [==============================] - 1s 60ms/step - loss: 0.8094 - accuracy: 0.8444 - val_loss: 1.0523 - val_accuracy: 0.8947\n",
      "Epoch 7/20\n",
      "19/19 [==============================] - 1s 58ms/step - loss: 0.7718 - accuracy: 0.8742 - val_loss: 1.0009 - val_accuracy: 0.9342\n",
      "Epoch 8/20\n",
      "19/19 [==============================] - 1s 59ms/step - loss: 0.7284 - accuracy: 0.8940 - val_loss: 0.9409 - val_accuracy: 0.9342\n",
      "Epoch 9/20\n",
      "19/19 [==============================] - 1s 63ms/step - loss: 0.6905 - accuracy: 0.8957 - val_loss: 0.8988 - val_accuracy: 0.9342\n",
      "Epoch 10/20\n",
      "19/19 [==============================] - 1s 65ms/step - loss: 0.6740 - accuracy: 0.9073 - val_loss: 0.8414 - val_accuracy: 0.9276\n",
      "Epoch 11/20\n",
      "19/19 [==============================] - 1s 66ms/step - loss: 0.6304 - accuracy: 0.9139 - val_loss: 0.8245 - val_accuracy: 0.9539\n",
      "Epoch 12/20\n",
      "19/19 [==============================] - 1s 65ms/step - loss: 0.6202 - accuracy: 0.9222 - val_loss: 0.7852 - val_accuracy: 0.9539\n",
      "Epoch 13/20\n",
      "19/19 [==============================] - 1s 65ms/step - loss: 0.6046 - accuracy: 0.9338 - val_loss: 0.7115 - val_accuracy: 0.9671\n",
      "Epoch 14/20\n",
      "19/19 [==============================] - 1s 57ms/step - loss: 0.5835 - accuracy: 0.9321 - val_loss: 0.7246 - val_accuracy: 0.9539\n",
      "Epoch 15/20\n",
      "19/19 [==============================] - 1s 61ms/step - loss: 0.5691 - accuracy: 0.9421 - val_loss: 0.6668 - val_accuracy: 0.9539\n",
      "Epoch 16/20\n",
      "19/19 [==============================] - 1s 59ms/step - loss: 0.5550 - accuracy: 0.9470 - val_loss: 0.6154 - val_accuracy: 0.9539\n",
      "Epoch 17/20\n",
      "19/19 [==============================] - 1s 58ms/step - loss: 0.5308 - accuracy: 0.9470 - val_loss: 0.5869 - val_accuracy: 0.9737\n",
      "Epoch 18/20\n",
      "19/19 [==============================] - 1s 65ms/step - loss: 0.5241 - accuracy: 0.9503 - val_loss: 0.5680 - val_accuracy: 0.9671\n",
      "Epoch 19/20\n",
      "19/19 [==============================] - 1s 69ms/step - loss: 0.5135 - accuracy: 0.9487 - val_loss: 0.5546 - val_accuracy: 0.9671\n",
      "Epoch 20/20\n",
      "19/19 [==============================] - 1s 63ms/step - loss: 0.5124 - accuracy: 0.9520 - val_loss: 0.5158 - val_accuracy: 0.9803\n"
     ]
    },
    {
     "data": {
      "image/png": "[encoded data removed]",
      "text/plain": [
       "<Figure size 640x480 with 1 Axes>"
      ]
     },
     "metadata": {},
     "output_type": "display_data"
    }
   ],
   "source": [
    "# Build your model here:\n",
    "F1 = 10\n",
    "F2 = 20\n",
    "D = 2\n",
    "C = X_train.shape[1]\n",
    "T = X_train.shape[2]\n",
    "N = 6\n",
    "\n",
    "EEGNet = Sequential()\n",
    "# Block 1\n",
    "EEGNet.add(Conv2D(F1, kernel_size=(1, 64), input_shape=(C, T, 1), activation='linear', padding='same'))\n",
    "EEGNet.add(BatchNormalization())\n",
    "EEGNet.add(DepthwiseConv2D(kernel_size=(C, 1), activation='linear', padding='valid', depth_multiplier=D, depthwise_constraint=max_norm(1.)))\n",
    "EEGNet.add(BatchNormalization())\n",
    "EEGNet.add(Activation('elu'))\n",
    "EEGNet.add(AveragePooling2D(pool_size=(1, 4)))\n",
    "EEGNet.add(Dropout(0.5))\n",
    "# Block 2\n",
    "EEGNet.add(SeparableConv2D(F2, kernel_size=(1, 16), activation='linear', padding='same'))\n",
    "EEGNet.add(BatchNormalization())\n",
    "EEGNet.add(Activation('elu'))\n",
    "EEGNet.add(AveragePooling2D(pool_size=(1, 8)))\n",
    "EEGNet.add(Dropout(0.5))\n",
    "EEGNet.add(Flatten())\n",
    "EEGNet.add(Dense(N, activation='softmax', kernel_constraint=max_norm(0.25)))\n",
    "EEGNet.compile(loss='categorical_crossentropy', optimizer='Adam', metrics=['accuracy'])\n",
    "EEGNet_history = EEGNet.fit(X_train, _Y_train, epochs=20, batch_size=32, validation_data=(X_val, _Y_val))\n",
    "plt.plot(EEGNet_history.history['loss'])\n",
    "plt.plot(EEGNet_history.history['val_loss'])\n",
    "plt.ylabel('loss')\n",
    "plt.xlabel('epochs')\n",
    "plt.title('EEGNet')\n",
    "plt.show()"
   ]
  },
  {
   "cell_type": "code",
   "execution_count": 59,
   "metadata": {},
   "outputs": [
    {
     "name": "stdout",
     "output_type": "stream",
     "text": [
      "Model: \"sequential_12\"\n",
      "_________________________________________________________________\n",
      " Layer (type)                Output Shape              Param #   \n",
      "=================================================================\n",
      " conv2d_8 (Conv2D)           (None, 22, 200, 10)       650       \n",
      "                                                                 \n",
      " batch_normalization_24 (Bat  (None, 22, 200, 10)      40        \n",
      " chNormalization)                                                \n",
      "                                                                 \n",
      " depthwise_conv2d_8 (Depthwi  (None, 1, 200, 20)       460       \n",
      " seConv2D)                                                       \n",
      "                                                                 \n",
      " batch_normalization_25 (Bat  (None, 1, 200, 20)       80        \n",
      " chNormalization)                                                \n",
      "                                                                 \n",
      " activation_16 (Activation)  (None, 1, 200, 20)        0         \n",
      "                                                                 \n",
      " average_pooling2d_16 (Avera  (None, 1, 50, 20)        0         \n",
      " gePooling2D)                                                    \n",
      "                                                                 \n",
      " dropout_16 (Dropout)        (None, 1, 50, 20)         0         \n",
      "                                                                 \n",
      " separable_conv2d_8 (Separab  (None, 1, 50, 20)        740       \n",
      " leConv2D)                                                       \n",
      "                                                                 \n",
      " batch_normalization_26 (Bat  (None, 1, 50, 20)        80        \n",
      " chNormalization)                                                \n",
      "                                                                 \n",
      " activation_17 (Activation)  (None, 1, 50, 20)         0         \n",
      "                                                                 \n",
      " average_pooling2d_17 (Avera  (None, 1, 6, 20)         0         \n",
      " gePooling2D)                                                    \n",
      "                                                                 \n",
      " dropout_17 (Dropout)        (None, 1, 6, 20)          0         \n",
      "                                                                 \n",
      " flatten_12 (Flatten)        (None, 120)               0         \n",
      "                                                                 \n",
      " dense_16 (Dense)            (None, 6)                 726       \n",
      "                                                                 \n",
      "=================================================================\n",
      "Total params: 2,776\n",
      "Trainable params: 2,676\n",
      "Non-trainable params: 100\n",
      "_________________________________________________________________\n"
     ]
    }
   ],
   "source": [
    "EEGNet.summary()"
   ]
  },
  {
   "cell_type": "code",
   "execution_count": 62,
   "metadata": {
    "id": "Ge8jZUU8gve3"
   },
   "outputs": [
    {
     "name": "stdout",
     "output_type": "stream",
     "text": [
      "6/6 [==============================] - 0s 16ms/step\n"
     ]
    }
   ],
   "source": [
    "output = EEGNet.predict(X_test)\n",
    "output = np.argmax(output, axis=1).reshape(output.shape[0], 1).astype(int)\n",
    "assert(output.shape == (190, 1))\n",
    "np.savetxt('eegnet_output.csv', output, delimiter=\",\")"
   ]
  },
  {
   "cell_type": "markdown",
   "metadata": {
    "id": "qnHnQ_yVerBo"
   },
   "source": [
    "## Model Competition Part"
   ]
  },
  {
   "cell_type": "code",
   "execution_count": 12,
   "metadata": {
    "id": "zlhO90b9iB_-"
   },
   "outputs": [
    {
     "name": "stdout",
     "output_type": "stream",
     "text": [
      "Epoch 1/20\n",
      "19/19 [==============================] - 4s 88ms/step - loss: 1.5654 - accuracy: 0.5464 - val_loss: 1.2394 - val_accuracy: 0.8289\n",
      "Epoch 2/20\n",
      "19/19 [==============================] - 1s 71ms/step - loss: 1.0873 - accuracy: 0.7831 - val_loss: 0.9087 - val_accuracy: 0.8684\n",
      "Epoch 3/20\n",
      "19/19 [==============================] - 1s 77ms/step - loss: 0.8483 - accuracy: 0.8659 - val_loss: 0.8378 - val_accuracy: 0.8882\n",
      "Epoch 4/20\n",
      "19/19 [==============================] - 1s 76ms/step - loss: 0.7350 - accuracy: 0.9172 - val_loss: 0.8458 - val_accuracy: 0.9276\n",
      "Epoch 5/20\n",
      "19/19 [==============================] - 2s 83ms/step - loss: 0.6813 - accuracy: 0.9040 - val_loss: 0.8698 - val_accuracy: 0.9276\n",
      "Epoch 6/20\n",
      "19/19 [==============================] - 1s 79ms/step - loss: 0.6296 - accuracy: 0.9222 - val_loss: 0.8661 - val_accuracy: 0.9342\n",
      "Epoch 7/20\n",
      "19/19 [==============================] - 2s 105ms/step - loss: 0.5914 - accuracy: 0.9338 - val_loss: 0.8637 - val_accuracy: 0.9276\n",
      "Epoch 8/20\n",
      "19/19 [==============================] - 2s 92ms/step - loss: 0.5602 - accuracy: 0.9503 - val_loss: 0.8363 - val_accuracy: 0.9671\n",
      "Epoch 9/20\n",
      "19/19 [==============================] - 2s 104ms/step - loss: 0.5318 - accuracy: 0.9586 - val_loss: 0.8138 - val_accuracy: 0.9737\n",
      "Epoch 10/20\n",
      "19/19 [==============================] - 2s 87ms/step - loss: 0.5179 - accuracy: 0.9619 - val_loss: 0.7767 - val_accuracy: 0.9605\n",
      "Epoch 11/20\n",
      "19/19 [==============================] - 2s 83ms/step - loss: 0.5054 - accuracy: 0.9503 - val_loss: 0.7372 - val_accuracy: 0.9737\n",
      "Epoch 12/20\n",
      "19/19 [==============================] - 2s 87ms/step - loss: 0.4789 - accuracy: 0.9553 - val_loss: 0.7078 - val_accuracy: 0.9803\n",
      "Epoch 13/20\n",
      "19/19 [==============================] - 1s 73ms/step - loss: 0.4560 - accuracy: 0.9636 - val_loss: 0.6846 - val_accuracy: 0.9803\n",
      "Epoch 14/20\n",
      "19/19 [==============================] - 1s 78ms/step - loss: 0.4556 - accuracy: 0.9570 - val_loss: 0.6582 - val_accuracy: 0.9803\n",
      "Epoch 15/20\n",
      "19/19 [==============================] - 1s 78ms/step - loss: 0.4255 - accuracy: 0.9719 - val_loss: 0.6210 - val_accuracy: 0.9803\n",
      "Epoch 16/20\n",
      "19/19 [==============================] - 2s 87ms/step - loss: 0.4168 - accuracy: 0.9785 - val_loss: 0.5786 - val_accuracy: 0.9737\n",
      "Epoch 17/20\n",
      "19/19 [==============================] - 1s 75ms/step - loss: 0.4134 - accuracy: 0.9669 - val_loss: 0.5362 - val_accuracy: 0.9868\n",
      "Epoch 18/20\n",
      "19/19 [==============================] - 1s 75ms/step - loss: 0.4004 - accuracy: 0.9719 - val_loss: 0.5230 - val_accuracy: 0.9803\n",
      "Epoch 19/20\n",
      "19/19 [==============================] - 1s 73ms/step - loss: 0.3848 - accuracy: 0.9752 - val_loss: 0.4793 - val_accuracy: 0.9868\n",
      "Epoch 20/20\n",
      "19/19 [==============================] - 1s 70ms/step - loss: 0.3843 - accuracy: 0.9785 - val_loss: 0.4516 - val_accuracy: 0.9868\n"
     ]
    },
    {
     "data": {
      "image/png": "[encoded data removed]",
      "text/plain": [
       "<Figure size 640x480 with 1 Axes>"
      ]
     },
     "metadata": {},
     "output_type": "display_data"
    }
   ],
   "source": [
    "# Build your model here:\n",
    "\n",
    "F1 = 16\n",
    "F2 = 24\n",
    "D = 3\n",
    "C = X_train.shape[1]\n",
    "T = X_train.shape[2]\n",
    "N = 6\n",
    "\n",
    "\n",
    "Model = Sequential()\n",
    "\n",
    "Model.add(Conv2D(F1, kernel_size=(1, 64), input_shape=(C, T, 1), padding='same'))\n",
    "Model.add(BatchNormalization())\n",
    "Model.add(DepthwiseConv2D(kernel_size=(C, 1), activation='linear', padding='valid', depth_multiplier=D, depthwise_constraint=max_norm(1.)))\n",
    "Model.add(BatchNormalization())\n",
    "Model.add(Activation('elu'))\n",
    "Model.add(AveragePooling2D(pool_size=(1, 4)))\n",
    "Model.add(Dropout(0.5))\n",
    "\n",
    "Model.add(Conv2D(F2, kernel_size=(1, 16), activation='linear', padding='same'))\n",
    "Model.add(BatchNormalization())\n",
    "Model.add(Activation('elu'))\n",
    "Model.add(AveragePooling2D(pool_size=(1, 8)))\n",
    "Model.add(Dropout(0.5))\n",
    "Model.add(Flatten())\n",
    "\n",
    "Model.add(Dense(N, activation='softmax', kernel_constraint=max_norm(0.25)))\n",
    "Model.compile(loss='categorical_crossentropy', optimizer='Adam', metrics=['accuracy'])\n",
    "Model_history = Model.fit(X_train, _Y_train, epochs=20, batch_size=32, validation_data=(X_val, _Y_val))\n",
    "plt.plot(Model_history.history['loss'])\n",
    "plt.plot(Model_history.history['val_loss'])\n",
    "plt.ylabel('loss')\n",
    "plt.xlabel('epochs')\n",
    "plt.title('MyModel')\n",
    "plt.show()"
   ]
  },
  {
   "cell_type": "code",
   "execution_count": 13,
   "metadata": {
    "id": "m097nvkXiIqY"
   },
   "outputs": [
    {
     "name": "stdout",
     "output_type": "stream",
     "text": [
      "6/6 [==============================] - 0s 19ms/step\n"
     ]
    }
   ],
   "source": [
    "output = Model.predict(X_test)\n",
    "output = np.argmax(output, axis=1).reshape(output.shape[0], 1).astype(int)\n",
    "assert(output.shape == (190, 1))\n",
    "np.savetxt('competition_output.csv', output, delimiter=\",\")"
   ]
  },
  {
   "cell_type": "code",
   "execution_count": null,
   "metadata": {},
   "outputs": [],
   "source": []
  }
 ],
 "metadata": {
  "accelerator": "GPU",
  "colab": {
   "authorship_tag": "ABX9TyNqY25BLSFOOZutxtMZVIdv",
   "provenance": []
  },
  "gpuClass": "standard",
  "kernelspec": {
   "display_name": "Python 3 (ipykernel)",
   "language": "python",
   "name": "python3"
  },
  "language_info": {
   "codemirror_mode": {
    "name": "ipython",
    "version": 3
   },
   "file_extension": ".py",
   "mimetype": "text/x-python",
   "name": "python",
   "nbconvert_exporter": "python",
   "pygments_lexer": "ipython3",
   "version": "3.9.12"
  }
 },
 "nbformat": 4,
 "nbformat_minor": 1
}
